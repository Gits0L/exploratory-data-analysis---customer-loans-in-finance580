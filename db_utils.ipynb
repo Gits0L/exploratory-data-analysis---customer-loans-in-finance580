{
 "cells": [
  {
   "cell_type": "code",
   "execution_count": null,
   "metadata": {},
   "outputs": [],
   "source": [
    "from IPython.core.interactiveshell import InteractiveShell\n",
    "InteractiveShell.ast_node_interactivity = \"all\""
   ]
  },
  {
   "cell_type": "code",
   "execution_count": null,
   "metadata": {},
   "outputs": [],
   "source": [
    "import matplotlib.pyplot as plt\n",
    "import yaml\n",
    "import pandas as pd\n",
    "import psycopg2\n",
    "from sqlalchemy import create_engine\n",
    "import sqlalchemy"
   ]
  },
  {
   "cell_type": "code",
   "execution_count": 174,
   "metadata": {},
   "outputs": [
    {
     "ename": "SyntaxError",
     "evalue": "unterminated string literal (detected at line 3) (747390601.py, line 3)",
     "output_type": "error",
     "traceback": [
      "\u001b[0;36m  Cell \u001b[0;32mIn[174], line 3\u001b[0;36m\u001b[0m\n\u001b[0;31m    \" \" \"\u001b[0m\n\u001b[0m        ^\u001b[0m\n\u001b[0;31mSyntaxError\u001b[0m\u001b[0;31m:\u001b[0m unterminated string literal (detected at line 3)\n"
     ]
    }
   ],
   "source": [
    "with open('credentials.yaml', 'r') as f:\n",
    "    credentials = yaml.safe_load(f)\n",
    "    \"\"\"\n",
    "    Loads in yaml file including the credentials to create and connect to databse\n",
    "    \"\"\""
   ]
  },
  {
   "cell_type": "code",
   "execution_count": null,
   "metadata": {},
   "outputs": [],
   "source": [
    "class RDSDatabaseConnector:\n",
    "    def __init__(self, credentials):\n",
    "        self.credentials = credentials\n",
    "\n",
    "    def _create_engine(self):\n",
    "        engine = create_engine(f\"postgresql+psycopg2://{self.credentials['RDS_USER']}:{self.credentials['RDS_PASSWORD']}@{self.credentials['RDS_HOST']}:{self.credentials['RDS_PORT']}/{self.credentials['RDS_DATABASE']}\")\n",
    "        return engine\n",
    "    \n",
    "    def initialise_engine(self):\n",
    "        self.engine = self._create_engine()\n",
    "\n",
    "    def data_extraction(self, table_name='loan_payments'):\n",
    "        query = f\"SELECT * FROM loan_payments;\"\n",
    "        data = pd.read_sql(query, self.engine)\n",
    "        return data\n",
    "    \n",
    "    def save_to_file(self, data, file_path='loan_payments_data.csv'):\n",
    "        data.to_csv(file_path, index=False)\n",
    "\n",
    "    def load_loan_data(self, file_path='loan_payments_data.csv'):\n",
    "        try:\n",
    "            return pd.read_csv(file_path)\n",
    "        except FileNotFoundError:\n",
    "            print(f\"Error: File '{file_path}' not found.\")\n",
    "            return None\n"
   ]
  },
  {
   "cell_type": "code",
   "execution_count": null,
   "metadata": {},
   "outputs": [],
   "source": [
    "loan_data = RDSDatabaseConnector(credentials)\n",
    "loan_data._create_engine()\n",
    "loan_data.initialise_engine()\n",
    "loan_data.data_extraction()\n",
    "loan_data.data_extraction('loan_payments')\n",
    "loan_data.save_to_file(data=loan_data.data_extraction('loan_payments'), file_path='loan_payments_data.csv')\n",
    "loaded_data = loan_data.load_loan_data('loan_payments_data.csv')"
   ]
  },
  {
   "cell_type": "code",
   "execution_count": null,
   "metadata": {},
   "outputs": [],
   "source": [
    "loans_df = pd.read_csv('loan_payments_data.csv', index_col='id')\n",
    "loans_df.tail(10).describe()\n",
    "loans_df['recoveries']\n"
   ]
  },
  {
   "cell_type": "code",
   "execution_count": null,
   "metadata": {},
   "outputs": [],
   "source": [
    "loans_df['term'] = loans_df['term'].str.replace('months', '', regex=True)\n",
    "loans_df['employment_length'] = loans_df['employment_length'].str.replace('years', '', regex=True)\n",
    "loans_df['employment_length'] = loans_df['employment_length'].str.replace('year', '', regex=True)"
   ]
  },
  {
   "cell_type": "code",
   "execution_count": null,
   "metadata": {},
   "outputs": [],
   "source": [
    "loans_df.info()"
   ]
  },
  {
   "cell_type": "code",
   "execution_count": null,
   "metadata": {},
   "outputs": [],
   "source": [
    "loans_df['funded_amount'].hist(bins=40)\n",
    "loans_df['term'].hist(bins=40)\n",
    "loans_df['int_rate'].hist(bins=40)"
   ]
  },
  {
   "cell_type": "code",
   "execution_count": null,
   "metadata": {},
   "outputs": [],
   "source": [
    "class DataFrameTransform:\n",
    "    def __init__(self, loans_df):\n",
    "        self.loans_df = loans_df\n",
    "    \n",
    "    def identify_skewed_columns(self, threshold=0.5):\n",
    "        skewed_columns = self.loans_df.apply(lambda x: abs(x.skew()) > threshold)\n",
    "        return skewed_columns[skewed_columns].index.tolist()\n",
    "\n",
    "    def visualize_skewness(self, columns, plotter):\n",
    "        for column in columns:\n",
    "            plotter.plot_distribution(self.loans_df, column)\n",
    "\n",
    "    def transform_columns(self, columns, transformation):\n",
    "        for column in columns:\n",
    "            if pd.api.types.is_numeric_dtype(self.loans_df[column]):\n",
    "                self.loans_df[column] = transformation(self.loans_df[column])\n",
    "            else:\n",
    "                pass\n",
    "    \n",
    "    def null_impute(self, loans_df):\n",
    "        for column in loans_df.columns:\n",
    "                if pd.api.types.is_numeric_dtype(self.loans_df[column]):\n",
    "                    if loans_df[column].isnull().any():\n",
    "                     if loans_df[column].dtype == 'float64':\n",
    "                        loans_df[column].fillna(loans_df[column].median(), inplace=True)\n",
    "                    else:\n",
    "                        loans_df[column].fillna(loans_df[column].mode()[0], inplace=True)\n",
    "        return loans_df\n",
    "    \n",
    "    def save_transformed_data(self, filename='transformed_data.csv'):\n",
    "        self.loans_df.to_csv(filename, index=False)\n",
    "\n",
    "transform = DataFrameTransform(loans_df)\n",
    "threshold_skewness = 0.5 \n",
    "skewed_columns = transform.identify_skewed_columns(threshold_skewness)\n",
    "transform.save_transformed_data('transformed_data.csv', index=False)\n",
    "\n"
   ]
  },
  {
   "cell_type": "markdown",
   "metadata": {},
   "source": []
  },
  {
   "cell_type": "code",
   "execution_count": null,
   "metadata": {},
   "outputs": [],
   "source": [
    "from matplotlib import pyplot\n",
    "import seaborn as sns\n",
    "from scipy.stats import normaltest\n",
    "class Plotter:\n",
    "    def __init__(self, loans_df):\n",
    "        self.loans_df = loans_df\n",
    "    \n",
    "    def plot_distribution(self, data, column):\n",
    "        pass\n",
    "    \n",
    "    def null_percent_funded(self):\n",
    "        return loans_df['funded_amount'].isnull().sum() * 100/len(loans_df['funded_amount'])\n",
    "        loans_df['funded_amount'].hist(bins=40)\n",
    "    \n",
    "    def null_percent_term(self):\n",
    "        return loans_df['term'].isnull().sum() * 100/len(loans_df['term'])\n",
    "    \n",
    "    def null_percent_int_rate(self):\n",
    "        return loans_df['int_rate'].isnull().sum() * 100/len(loans_df['int_rate'])\n",
    "        \n",
    "    def skew_check(self):\n",
    "        numeric_data = ['loan_amount',\n",
    "                    'funded_amount', \n",
    "                    'funded_amount_inv',\n",
    "                    'instalment',\n",
    "                    'annual_inc',\n",
    "                    'open_accounts',\n",
    "                    'out_prncp',\n",
    "                    'out_prncp_inv',\n",
    "                    'total_payment',\n",
    "                    'total_payment_inv',\n",
    "                    'total_rec_prncp',\n",
    "                    'total_rec_int'\n",
    "                    ]\n",
    "\n",
    "        categorical_data = [col for col in loans_df.columns if col not in numeric_data]\n",
    "        sns.set(font_scale=0.7)\n",
    "        f = pd.melt(loans_df, value_vars=numeric_data)\n",
    "        g = sns.FacetGrid(f, col=\"variable\",  col_wrap=3, sharex=False, sharey=False)\n",
    "        g = g.map(sns.histplot, \"value\", kde=True)\n",
    "        print(categorical_data)\n",
    "    \n",
    "    def outlier_removal(self, column):\n",
    "        Q1 = column.quantile(0.25)\n",
    "        Q3 = column.quantile(0.75)\n",
    "        IQR = Q3 - Q1 # Calculates the IQR (Interquartile Range)\n",
    "        lower_bound = Q1 - 1.5 * IQR # Defines the lower and upper bounds to identify outliers\n",
    "        upper_bound = Q3 + 1.5 * IQR\n",
    "        return column[(column >= lower_bound) & (column <= upper_bound)] #Filters the DataFrame to exclude outliers\n",
    "    \n",
    "    \n",
    "\n",
    "# Display the new DataFrame without outliers\n",
    "plotting = Plotter(loans_df)\n",
    "plotting.null_percent_funded()\n",
    "plotting.null_percent_term()\n",
    "plotting.null_percent_int_rate()\n",
    "plotting.skew_check()\n",
    "plotting.outlier_removal()"
   ]
  },
  {
   "cell_type": "markdown",
   "metadata": {},
   "source": [
    "\n",
    "coreelated collumns (NOT DONE)\n"
   ]
  },
  {
   "cell_type": "code",
   "execution_count": null,
   "metadata": {},
   "outputs": [],
   "source": [
    "class Nulls:\n",
    "    def __init__(self, loans_df):\n",
    "        self.loans_df = loans_df\n",
    "\n",
    "    def null_impute(self, loans_df):\n",
    "        for column in loans_df.columns:\n",
    "                if loans_df[column].isnull().any():\n",
    "                    if loans_df[column].dtype == 'float64':\n",
    "                        loans_df[column].fillna(loans_df[column].median(), inplace=True)\n",
    "                    else:\n",
    "                        loans_df[column].fillna(loans_df[column].mode()[0], inplace=True)\n",
    "                return loans_df\n",
    "    \n",
    "imputing_nulls = Nulls(loans_df)\n"
   ]
  },
  {
   "cell_type": "markdown",
   "metadata": {},
   "source": [
    "Checking for skewdness"
   ]
  },
  {
   "cell_type": "code",
   "execution_count": null,
   "metadata": {},
   "outputs": [],
   "source": [
    "class Loan_analysis:\n",
    "    def __init__(self, loans_df):\n",
    "        self.loans_df = loans_df\n",
    "    \n",
    "    \n",
    "        loans_df['total_payment'].sum()/loans_df['funded_amount_inv'].sum() * 100\n",
    "        loans_df[loans_df['months_to_recovery'] <= 6]['total_payment'].sum() / loans_df['loan_amount'].sum() * 100\n",
    "        label = ['Overall Recovery', 'Recovery Up to 6 Months']\n",
    "        percentages = ['percent_recovery', 'percent_recovery_up_to_6_months']\n",
    "\n"
   ]
  },
  {
   "cell_type": "code",
   "execution_count": 171,
   "metadata": {},
   "outputs": [
    {
     "ename": "TypeError",
     "evalue": "bar() missing 1 required positional argument: 'height'",
     "output_type": "error",
     "traceback": [
      "\u001b[0;31m---------------------------------------------------------------------------\u001b[0m",
      "\u001b[0;31mTypeError\u001b[0m                                 Traceback (most recent call last)",
      "\u001b[1;32m/Users/sol3/Aicore/exploratory-data-analysis---customer-loans-in-finance580/db_utils.ipynb Cell 17\u001b[0m line \u001b[0;36m5\n\u001b[1;32m      <a href='vscode-notebook-cell:/Users/sol3/Aicore/exploratory-data-analysis---customer-loans-in-finance580/db_utils.ipynb#X24sZmlsZQ%3D%3D?line=2'>3</a>\u001b[0m loan_amount \u001b[39m=\u001b[39m loans_df[\u001b[39m'\u001b[39m\u001b[39mloan_amount\u001b[39m\u001b[39m'\u001b[39m]\n\u001b[1;32m      <a href='vscode-notebook-cell:/Users/sol3/Aicore/exploratory-data-analysis---customer-loans-in-finance580/db_utils.ipynb#X24sZmlsZQ%3D%3D?line=3'>4</a>\u001b[0m labels \u001b[39m=\u001b[39m [\u001b[39m'\u001b[39m\u001b[39mTotal payment\u001b[39m\u001b[39m'\u001b[39m, \u001b[39m'\u001b[39m\u001b[39mLoan amount\u001b[39m\u001b[39m'\u001b[39m]\n\u001b[0;32m----> <a href='vscode-notebook-cell:/Users/sol3/Aicore/exploratory-data-analysis---customer-loans-in-finance580/db_utils.ipynb#X24sZmlsZQ%3D%3D?line=4'>5</a>\u001b[0m plt\u001b[39m.\u001b[39;49mbar(labels, color\u001b[39m=\u001b[39;49m[\u001b[39m'\u001b[39;49m\u001b[39mred\u001b[39;49m\u001b[39m'\u001b[39;49m, \u001b[39m'\u001b[39;49m\u001b[39mblue\u001b[39;49m\u001b[39m'\u001b[39;49m])\n\u001b[1;32m      <a href='vscode-notebook-cell:/Users/sol3/Aicore/exploratory-data-analysis---customer-loans-in-finance580/db_utils.ipynb#X24sZmlsZQ%3D%3D?line=5'>6</a>\u001b[0m plt\u001b[39m.\u001b[39mylabel(\u001b[39m'\u001b[39m\u001b[39mPercentage (\u001b[39m\u001b[39m%\u001b[39m\u001b[39m)\u001b[39m\u001b[39m'\u001b[39m)\n\u001b[1;32m      <a href='vscode-notebook-cell:/Users/sol3/Aicore/exploratory-data-analysis---customer-loans-in-finance580/db_utils.ipynb#X24sZmlsZQ%3D%3D?line=6'>7</a>\u001b[0m plt\u001b[39m.\u001b[39mtitle(\u001b[39m'\u001b[39m\u001b[39mLoan Recovery Analysis\u001b[39m\u001b[39m'\u001b[39m)\n",
      "\u001b[0;31mTypeError\u001b[0m: bar() missing 1 required positional argument: 'height'"
     ]
    }
   ],
   "source": [
    "percent_recovery = loans_df['total_payment'].sum()/loans_df['loan_amount'].sum() * 100\n",
    "total_payment = loans_df['total_payment'].sum()\n",
    "loan_amount = loans_df['loan_amount']\n",
    "labels = ['Total payment', 'Loan amount']\n",
    "plt.bar(labels,  color=['red', 'blue'])\n",
    "plt.ylabel('Percentage (%)')\n",
    "plt.title('Loan Recovery Analysis')\n",
    "plt.ylim(0, 100)\n",
    "plt.show()"
   ]
  },
  {
   "cell_type": "markdown",
   "metadata": {},
   "source": [
    "ask about below"
   ]
  },
  {
   "cell_type": "markdown",
   "metadata": {},
   "source": [
    "milestone 4 task 3\n",
    "percentage off loans that were charged off and amound paid before charged off"
   ]
  },
  {
   "cell_type": "code",
   "execution_count": 173,
   "metadata": {},
   "outputs": [
    {
     "name": "stdout",
     "output_type": "stream",
     "text": [
      "5571\n",
      "10.27 %\n",
      "37400589.040819496\n"
     ]
    }
   ],
   "source": [
    "loan_loss = len(loans_df[loans_df['loan_status'] == 'Charged Off']) #Extracting loans that were charged off\n",
    "percentage_loan_loss = (loan_loss/len(loans_df)) * 100  #calculated proportion of charged off loans compared to entire dataset\n",
    "print(loan_loss)\n",
    "print(round(percentage_loan_loss, 2), '%')\n",
    "paid_until_charged_off = loans_df.loc[loans_df['loan_status'] == 'Charged Off', 'total_payment'].sum()\n",
    "print(paid_until_charged_off)\n"
   ]
  },
  {
   "cell_type": "code",
   "execution_count": null,
   "metadata": {},
   "outputs": [],
   "source": [
    "sum_paid_until_charged_off = loans_df.loc[loans_df['loan_status'] == 'Charged Off', 'total_payment'].sum() #amount of money total remaining for loans that were charged off \n",
    "total_loan_charged_off = loans_df.loc[loans_df['loan_status'] == 'Charged Off', 'loan_amount'].sum() #amount of total loan owed for the loans that were charged off\n",
    "projected_loss = total_loan_charged_off - sum_paid_until_charged_off\n",
    "print(projected_loss)"
   ]
  },
  {
   "cell_type": "code",
   "execution_count": null,
   "metadata": {},
   "outputs": [],
   "source": [
    "late = loans_df[loans_df['loan_status'].str.contains('late', case=False)] #Extracting the collumns where the contents of the loan status collunm is late\n",
    "money_owed_late_payments = late['out_prncp'].sum() #loss to company if late payers status changed to charged off\n",
    "print(money_owed_late_payments)\n",
    "len(loans_df) #extracting the number of loanees total\n",
    "number_of_late_payers = len(late) #number of loanees who have late payments\n",
    "total_loanees = len(loans_df)\n",
    "percentage_owed_over_total = (number_of_late_payers/total_loanees) * 100 #calculates how much of the total loanees the late payees make up \n",
    "percentage_owed_over_total_rounded = round(percentage_owed_over_total, 2)\n",
    "print(percentage_owed_over_total_rounded, '%')"
   ]
  },
  {
   "cell_type": "code",
   "execution_count": null,
   "metadata": {},
   "outputs": [],
   "source": [
    "#calculates the proportion of late payers compared to whole dataset \n",
    "percentage_owed_over_total_late = round(percentage_owed_over_total, 2)\n",
    "percentage_owed_over_total_charged_off = round(percentage_loan_loss, 2)\n",
    "print(f\"The percentage of payments in the dataframe that are late is {percentage_owed_over_total}, %\")\n",
    "print(f\"The percentage of payments in the dataframe that are charged off is {percentage_owed_over_total_charged_off}, %\")\n",
    "\n",
    "money_owed_charged_off = loans_df.loc[loans_df['loan_status'] == 'Charged Off', 'loan_amount'].sum() - loans_df.loc[loans_df['loan_status'] == 'Charged Off', 'total_payment'].sum()\n",
    "print(f'1 {money_owed_charged_off}')\n",
    "print(f'2 {money_owed_late_payments}')\n",
    "money_owed_charged_off_and_late = (money_owed_late_payments + money_owed_charged_off)/ loans_df['loan_amount'].sum() * 100\n",
    "money_owed_charged_off_and_late_rounded = round(money_owed_charged_off_and_late)\n",
    "print(f'The percentage of total expected revenue represented by people whose loan status is charged off and late is {money_owed_charged_off_and_late}')"
   ]
  },
  {
   "cell_type": "code",
   "execution_count": null,
   "metadata": {},
   "outputs": [],
   "source": [
    "loans_df_chargedoff = loans_df[loans_df['loan_status'].isin(['Charged Off'])] #Saves data where loan status is charged off \n",
    "loans_df_chargedoff.to_csv('filtered_loans.csv', index=False)"
   ]
  },
  {
   "cell_type": "code",
   "execution_count": null,
   "metadata": {},
   "outputs": [],
   "source": [
    "loans_paid_current = loans_df[loans_df['loan_status'].isin(['Fully paid']) & loans_df['loan_status'].isin(['Current'])] #Saves data where loan status is current\n",
    "loans_paid_current.to_csv('paid_and_current_loans.csv', index=False)"
   ]
  }
 ],
 "metadata": {
  "kernelspec": {
   "display_name": "Python 3",
   "language": "python",
   "name": "python3"
  },
  "language_info": {
   "codemirror_mode": {
    "name": "ipython",
    "version": 3
   },
   "file_extension": ".py",
   "mimetype": "text/x-python",
   "name": "python",
   "nbconvert_exporter": "python",
   "pygments_lexer": "ipython3",
   "version": "3.12.0"
  }
 },
 "nbformat": 4,
 "nbformat_minor": 2
}
