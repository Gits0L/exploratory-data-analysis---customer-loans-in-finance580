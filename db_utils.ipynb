{
 "cells": [
  {
   "cell_type": "code",
   "execution_count": null,
   "metadata": {},
   "outputs": [],
   "source": [
    "import yaml\n",
    "import pandas as pd\n",
    "import psycopg2\n",
    "from sqlalchemy import create_engine\n",
    "import sqlalchemy"
   ]
  },
  {
   "cell_type": "code",
   "execution_count": null,
   "metadata": {},
   "outputs": [],
   "source": [
    "with open('credentials.yaml', 'r') as f:\n",
    "    credentials = yaml.safe_load(f)"
   ]
  },
  {
   "cell_type": "code",
   "execution_count": null,
   "metadata": {},
   "outputs": [],
   "source": [
    "class RDSDatabaseConnector:\n",
    "    def __init__(self, credentials):\n",
    "        self.credentials = credentials\n",
    "\n",
    "    #PROBLEM WITH STRING LITERAL EU-WEST1 AND INDENTATION IN NEXT CODE\n",
    "    def _create_engine(self):\n",
    "        engine = create_engine(f\"postgresql+psycopg2://{self.credentials['RDS_USER']}:{self.credentials['RDS_PASSWORD']}@{self.credentials['RDS_HOST']}:{self.credentials['RDS_PORT']}/{self.credentials['RDS_DATABASE']}\")\n",
    "        return engine\n",
    "    \n",
    "    def initialise_engine(self):\n",
    "        self.engine = self._create_engine()\n",
    "\n",
    "    def data_extraction(self, table_name='loan_payments'):\n",
    "        query = f\"SELECT * FROM loan_payments;\"\n",
    "        data = pd.read_sql(query, self.engine)\n",
    "        return data\n",
    "    \n",
    "    def save_to_file(self, data, file_path='loan_payments_data.csv'):\n",
    "        data.to_csv(file_path, index=False)\n",
    "\n",
    "    def load_loan_data(self, file_path='loan_payments_data.csv'):\n",
    "        try:\n",
    "            return pd.read_csv(file_path)\n",
    "        except FileNotFoundError:\n",
    "            print(f\"Error: File '{file_path}' not found.\")\n",
    "            return None\n"
   ]
  },
  {
   "cell_type": "code",
   "execution_count": null,
   "metadata": {},
   "outputs": [],
   "source": [
    "loan_data = RDSDatabaseConnector(credentials)\n",
    "loan_data._create_engine()\n",
    "loan_data.initialise_engine()\n",
    "loan_data.data_extraction()\n",
    "loan_data.data_extraction('loan_payments')\n",
    "loan_data.save_to_file(data=loan_data.data_extraction('loan_payments'), file_path='loan_payments_data.csv')\n",
    "loaded_data = loan_data.load_loan_data('loan_payments_data.csv')\n",
    "print(loaded_data) "
   ]
  },
  {
   "cell_type": "code",
   "execution_count": null,
   "metadata": {},
   "outputs": [],
   "source": [
    "loans_df = pd.read_csv('loan_payments_data.csv', index_col='id')\n",
    "loans_df.tail(10).describe()\n"
   ]
  },
  {
   "cell_type": "code",
   "execution_count": null,
   "metadata": {},
   "outputs": [],
   "source": [
    "loans_df['term'] = loans_df['term'].str.replace('months', '', regex=True)\n",
    "loans_df['employment_length'] = loans_df['employment_length'].str.replace('years', '', regex=True)\n",
    "loans_df['employment_length'] = loans_df['employment_length'].str.replace('year', '', regex=True)\n",
    "loans_df.head(10)\n",
    "loans_df.tail(10)"
   ]
  },
  {
   "cell_type": "code",
   "execution_count": null,
   "metadata": {},
   "outputs": [],
   "source": []
  },
  {
   "cell_type": "code",
   "execution_count": null,
   "metadata": {},
   "outputs": [],
   "source": [
    "class DataFrameInfo:\n",
    "    def __init__(self, loans_df):\n",
    "        self.loans_df = loans_df\n",
    "         \n",
    "    def collumn_description(self):\n",
    "        return loans_df.describe()\n",
    "    \n",
    "    def loan_df_distinct(self):\n",
    "        return loans_df.nunique(axis=0)\n",
    "    \n",
    "    def loans_df_shape(self):\n",
    "        return loans_df.shape\n",
    "    \n",
    "    def loans_df_null_count(self):\n",
    "        return loans_df.isnull()\n",
    "    \n",
    "    def loans_df_null_count_percent(self):\n",
    "        return loans_df.isnull().sum()/len(loans_df)\n"
   ]
  },
  {
   "cell_type": "code",
   "execution_count": null,
   "metadata": {},
   "outputs": [],
   "source": [
    "info = DataFrameInfo(loans_df)"
   ]
  },
  {
   "cell_type": "code",
   "execution_count": null,
   "metadata": {},
   "outputs": [],
   "source": [
    "info.loan_df_distinct()"
   ]
  },
  {
   "cell_type": "code",
   "execution_count": null,
   "metadata": {},
   "outputs": [],
   "source": [
    "info.loans_df_shape()"
   ]
  },
  {
   "cell_type": "code",
   "execution_count": null,
   "metadata": {},
   "outputs": [],
   "source": [
    "info.loans_df_null_count()"
   ]
  },
  {
   "cell_type": "code",
   "execution_count": 54,
   "metadata": {},
   "outputs": [
    {
     "data": {
      "text/plain": [
       "member_id                      0.000000\n",
       "loan_amount                    0.000000\n",
       "funded_amount                  0.055448\n",
       "funded_amount_inv              0.000000\n",
       "term                           0.087994\n",
       "int_rate                       0.095314\n",
       "instalment                     0.000000\n",
       "grade                          0.000000\n",
       "sub_grade                      0.000000\n",
       "employment_length              0.039055\n",
       "home_ownership                 0.000000\n",
       "annual_inc                     0.000000\n",
       "verification_status            0.000000\n",
       "issue_date                     0.000000\n",
       "loan_status                    0.000000\n",
       "payment_plan                   0.000000\n",
       "purpose                        0.000000\n",
       "dti                            0.000000\n",
       "delinq_2yrs                    0.000000\n",
       "earliest_credit_line           0.000000\n",
       "inq_last_6mths                 0.000000\n",
       "mths_since_last_delinq         0.571666\n",
       "mths_since_last_record         0.886025\n",
       "open_accounts                  0.000000\n",
       "total_accounts                 0.000000\n",
       "out_prncp                      0.000000\n",
       "out_prncp_inv                  0.000000\n",
       "total_payment                  0.000000\n",
       "total_payment_inv              0.000000\n",
       "total_rec_prncp                0.000000\n",
       "total_rec_int                  0.000000\n",
       "total_rec_late_fee             0.000000\n",
       "recoveries                     0.000000\n",
       "collection_recovery_fee        0.000000\n",
       "last_payment_date              0.001346\n",
       "last_payment_amount            0.000000\n",
       "next_payment_date              0.601280\n",
       "last_credit_pull_date          0.000129\n",
       "collections_12_mths_ex_med     0.000940\n",
       "mths_since_last_major_derog    0.861721\n",
       "policy_code                    0.000000\n",
       "application_type               0.000000\n",
       "dtype: float64"
      ]
     },
     "execution_count": 54,
     "metadata": {},
     "output_type": "execute_result"
    }
   ],
   "source": [
    "info.loans_df_null_count_percent()"
   ]
  },
  {
   "cell_type": "markdown",
   "metadata": {},
   "source": [
    "Changes:\n",
    "id and member id in weird format \n",
    "change decimals (all) \n",
    "change names to be clearer\n",
    "identify what 0 mean \n",
    "only need member id other id was automaticcaly generated\n"
   ]
  },
  {
   "cell_type": "code",
   "execution_count": null,
   "metadata": {},
   "outputs": [],
   "source": [
    "loans_df.info()"
   ]
  },
  {
   "cell_type": "markdown",
   "metadata": {},
   "source": [
    "null = funded_amounr, term, int_rate, employment_length"
   ]
  },
  {
   "cell_type": "code",
   "execution_count": 64,
   "metadata": {},
   "outputs": [
    {
     "data": {
      "text/plain": [
       "0.05544799100145673"
      ]
     },
     "execution_count": 64,
     "metadata": {},
     "output_type": "execute_result"
    }
   ],
   "source": [
    "from scipy.stats import normaltest\n",
    "from matplotlib import pyplot\n",
    "class Plotter:\n",
    "    def __init__(self, loans_df):\n",
    "        self.loans_df = loans_df\n",
    "    \n",
    "    def null_percent_funded(self):\n",
    "        return loans_df['funded_amount'].isnull().sum()/len(loans_df['funded_amount'])\n",
    "        loans_df['funded_amount'].hist(bins=40)\n",
    "    \n",
    "    def null_percent_term(self):\n",
    "        return loans_df['term'].isnull().sum()/len(loans_df['term'])\n",
    "    \n",
    "    def null_percent_int_rate(self):\n",
    "        return loans_df['int_rate'].isnull().sum()/len(loans_df['int_rate'])\n",
    "    \n",
    "    def null_percent_empl_rate(self):\n",
    "        return loans_df['employment_rate'].isnull().sum()/len(loans_df['employment_rate'])\n",
    "    \n",
    "plotted_info = Plotter(loans_df)\n",
    "plotted_info.null_percent_funded()"
   ]
  },
  {
   "cell_type": "code",
   "execution_count": 65,
   "metadata": {},
   "outputs": [
    {
     "data": {
      "text/plain": [
       "<Axes: >"
      ]
     },
     "execution_count": 65,
     "metadata": {},
     "output_type": "execute_result"
    },
    {
     "data": {
      "image/png": "[encoded data removed]",
      "text/plain": [
       "<Figure size 640x480 with 1 Axes>"
      ]
     },
     "metadata": {},
     "output_type": "display_data"
    }
   ],
   "source": [
    "loans_df['funded_amount'].hist(bins=40)"
   ]
  }
 ],
 "metadata": {
  "kernelspec": {
   "display_name": "Python 3",
   "language": "python",
   "name": "python3"
  },
  "language_info": {
   "codemirror_mode": {
    "name": "ipython",
    "version": 3
   },
   "file_extension": ".py",
   "mimetype": "text/x-python",
   "name": "python",
   "nbconvert_exporter": "python",
   "pygments_lexer": "ipython3",
   "version": "3.12.0"
  }
 },
 "nbformat": 4,
 "nbformat_minor": 2
}
